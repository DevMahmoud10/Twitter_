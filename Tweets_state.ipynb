{
 "cells": [
  {
   "cell_type": "code",
   "execution_count": null,
   "metadata": {
    "collapsed": true
   },
   "outputs": [],
   "source": [
    "%reload_ext autoreload\n",
    "%autoreload 2\n",
    "%matplotlib inline"
   ]
  },
  {
   "cell_type": "code",
   "execution_count": null,
   "metadata": {
    "collapsed": true
   },
   "outputs": [],
   "source": [
    "import pandas as pd\n",
    "import numpy as np\n",
    "import matplotlib.pyplot as plt\n",
    "import re\n",
    "import datetime"
   ]
  },
  {
   "cell_type": "markdown",
   "metadata": {},
   "source": [
    "## looking into data"
   ]
  },
  {
   "cell_type": "code",
   "execution_count": null,
   "metadata": {
    "collapsed": false
   },
   "outputs": [],
   "source": [
    "tweets_df = pd.read_csv(\"dataset/javascript_top.csv\")\n",
    "tweets_df.head().T"
   ]
  },
  {
   "cell_type": "code",
   "execution_count": null,
   "metadata": {
    "collapsed": false
   },
   "outputs": [],
   "source": [
    "tweets_df.isna().sum()"
   ]
  },
  {
   "cell_type": "markdown",
   "metadata": {},
   "source": [
    "### we found that all missing values are in fact  0 so we change them to 0"
   ]
  },
  {
   "cell_type": "code",
   "execution_count": null,
   "metadata": {
    "collapsed": true
   },
   "outputs": [],
   "source": [
    "tweets_df.replies.fillna(0,inplace=True)\n",
    "tweets_df.retweets.fillna(0,inplace=True)\n",
    "tweets_df.likes.fillna(0,inplace=True)"
   ]
  },
  {
   "cell_type": "markdown",
   "metadata": {},
   "source": [
    "### now we will convert our time feature to 3 features day and month and year"
   ]
  },
  {
   "cell_type": "code",
   "execution_count": null,
   "metadata": {
    "collapsed": true
   },
   "outputs": [],
   "source": [
    "months = {'jan':1, 'feb':2, 'mar':3, 'apr':4,\n",
    "          'may':5, 'jun':6, 'jul':7, 'aug':8,\n",
    "          'sep':9, 'oct':10, 'nov':11, 'dec':12}\n",
    "\n",
    "def get_time(date_time):\n",
    "    return date_time.split('-')[0].strip()\n",
    "\n",
    "def get_day(date_time):\n",
    "    return int(date_time.split('-')[1].strip().split(' ')[0].strip())\n",
    "\n",
    "def get_month(date_time):\n",
    "    return months[date_time.split('-')[1].strip().split(' ')[1].strip().lower()]\n",
    "\n",
    "def get_year(date_time):\n",
    "    return int(date_time.split('-')[1].strip().split(' ')[2].strip())"
   ]
  },
  {
   "cell_type": "code",
   "execution_count": null,
   "metadata": {
    "collapsed": true,
    "scrolled": true
   },
   "outputs": [],
   "source": [
    "def get_time_column(df, column_name):\n",
    "    date_list = []\n",
    "    column = df[column_name]\n",
    "    for item in column:\n",
    "        time = get_time(item)\n",
    "        day = get_day(item)\n",
    "        month = get_month(item)\n",
    "        year = get_year(item)\n",
    "        date_list.append(f'{time} - {day}/{month}/{year}')\n",
    "    return pd.to_datetime(date_list, format='%I:%M %p - %d/%m/%Y')\n",
    "tweets_df['time'] = get_time_column(tweets_df, 'time')"
   ]
  },
  {
   "cell_type": "code",
   "execution_count": null,
   "metadata": {
    "collapsed": true
   },
   "outputs": [],
   "source": [
    "tweets_df['period'] =tweets_df.time.dt.hour // 6\n",
    "tweets_df['day'] = tweets_df.time.dt.day\n",
    "tweets_df['month'] = tweets_df.time.dt.month\n",
    "tweets_df['week'] = tweets_df.time.dt.week % 4 + 1\n",
    "tweets_df['year'] = tweets_df.time.dt.year"
   ]
  },
  {
   "cell_type": "code",
   "execution_count": null,
   "metadata": {
    "collapsed": false
   },
   "outputs": [],
   "source": [
    "period_stats = tweets_df.groupby(by='period').count().reset_index()[['period', 'body']]\n",
    "period_stats.columns = ['period', 'tweets']\n",
    "period_stats.head()"
   ]
  },
  {
   "cell_type": "code",
   "execution_count": null,
   "metadata": {
    "collapsed": false
   },
   "outputs": [],
   "source": [
    "period_stats.plot('period','tweets', kind='bar');"
   ]
  },
  {
   "cell_type": "code",
   "execution_count": null,
   "metadata": {
    "collapsed": false
   },
   "outputs": [],
   "source": [
    "day_stats = (tweets_df.groupby(by=['day','month','year'])\n",
    "                            .count()\n",
    "                            .reset_index()[['day','month','year', 'body']])\n",
    "day_stats.columns = ['day','month','year', 'tweets']\n",
    "day_stats.head()"
   ]
  },
  {
   "cell_type": "code",
   "execution_count": null,
   "metadata": {
    "collapsed": true
   },
   "outputs": [],
   "source": [
    "date = ([f'{day}/{month}/{year}' for day, month, year \n",
    "        in zip(day_stats.day, day_stats.month, day_stats.year)])\n",
    "day_stats['date'] = pd.to_datetime(date, format='%d/%m/%Y')"
   ]
  },
  {
   "cell_type": "code",
   "execution_count": null,
   "metadata": {
    "collapsed": false
   },
   "outputs": [],
   "source": [
    "day_stats.plot('date','tweets');"
   ]
  },
  {
   "cell_type": "code",
   "execution_count": null,
   "metadata": {
    "collapsed": false
   },
   "outputs": [],
   "source": [
    "week_stats = (tweets_df.groupby(by=['week','month','year'])\n",
    "                            .count()\n",
    "                            .reset_index()[['week','month','year', 'body']])\n",
    "week_stats.columns = ['week','month','year', 'tweets']\n",
    "week_stats.head()"
   ]
  },
  {
   "cell_type": "code",
   "execution_count": null,
   "metadata": {
    "collapsed": true
   },
   "outputs": [],
   "source": [
    "date = ([f'{week}/{month}/{year}' for week, month, year \n",
    "        in zip(week_stats.week, week_stats.month, week_stats.year)])\n",
    "week_stats['week_number'] = date"
   ]
  },
  {
   "cell_type": "code",
   "execution_count": null,
   "metadata": {
    "collapsed": false
   },
   "outputs": [],
   "source": [
    "week_stats.plot('week_number','tweets',kind='bar');"
   ]
  },
  {
   "cell_type": "code",
   "execution_count": null,
   "metadata": {
    "collapsed": false
   },
   "outputs": [],
   "source": [
    "month_stats = (tweets_df.groupby(by=['month','year'])\n",
    "                            .count()\n",
    "                            .reset_index()[['month','year', 'body']])\n",
    "month_stats.columns = ['month','year', 'tweets']\n",
    "month_stats.head()"
   ]
  },
  {
   "cell_type": "code",
   "execution_count": null,
   "metadata": {
    "collapsed": true,
    "scrolled": true
   },
   "outputs": [],
   "source": [
    "date = ([f'{month}/{year}' for month, year \n",
    "        in zip(month_stats.month, month_stats.year)])\n",
    "month_stats['date'] = date"
   ]
  },
  {
   "cell_type": "code",
   "execution_count": null,
   "metadata": {
    "collapsed": false
   },
   "outputs": [],
   "source": [
    "month_stats.plot('date','tweets', kind='bar');"
   ]
  }
 ],
 "metadata": {
  "kernelspec": {
   "display_name": "Python 3",
   "language": "python",
   "name": "python3"
  },
  "language_info": {
   "codemirror_mode": {
    "name": "ipython",
    "version": 3
   },
   "file_extension": ".py",
   "mimetype": "text/x-python",
   "name": "python",
   "nbconvert_exporter": "python",
   "pygments_lexer": "ipython3",
   "version": "3.6.8"
  }
 },
 "nbformat": 4,
 "nbformat_minor": 2
}
