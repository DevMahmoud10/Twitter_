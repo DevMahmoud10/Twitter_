{
 "cells": [
  {
   "cell_type": "code",
   "execution_count": null,
   "metadata": {
    "collapsed": false
   },
   "outputs": [],
   "source": [
    "import pandas as pd\n",
    "import numpy as np\n",
    "import re\n",
    "import ast\n",
    "import matplotlib.pyplot as plt\n",
    "import plotly.plotly as py\n",
    "import seaborn as sns\n",
    "import plotly.graph_objs as go\n",
    "from plotly import __version__\n",
    "from plotly.offline import download_plotlyjs, init_notebook_mode, plot, iplot\n",
    "%matplotlib inline\n",
    "init_notebook_mode(connected=True)"
   ]
  },
  {
   "cell_type": "code",
   "execution_count": null,
   "metadata": {
    "collapsed": false
   },
   "outputs": [],
   "source": [
    "tweets_df=pd.read_csv(\"dataset/javascript_top.csv\")\n",
    "tweets_df.replies.fillna(0,inplace=True)\n",
    "tweets_df.retweets.fillna(0,inplace=True)\n",
    "tweets_df.likes.fillna(0,inplace=True)"
   ]
  },
  {
   "cell_type": "code",
   "execution_count": null,
   "metadata": {
    "collapsed": true
   },
   "outputs": [],
   "source": [
    "def get_time(date_time):\n",
    "    return date_time.split('-')[0].strip()\n",
    "\n",
    "def get_day(date_time):\n",
    "    return date_time.split('-')[1].strip().split(' ')[0].strip()\n",
    "\n",
    "def get_month(date_time):\n",
    "    return date_time.split('-')[1].strip().split(' ')[1].strip()\n",
    "\n",
    "def get_year(date_time):\n",
    "    return date_time.split('-')[1].strip().split(' ')[2].strip()\n",
    "\n"
   ]
  },
  {
   "cell_type": "code",
   "execution_count": null,
   "metadata": {
    "collapsed": true
   },
   "outputs": [],
   "source": [
    "day=[]\n",
    "month=[]\n",
    "year=[]\n",
    "timestamp=[]\n",
    "hashtags=[]\n",
    "mentions=[]\n",
    "links=[]\n",
    "hashtags_numbers=[]\n",
    "mentions_numbers=[]\n",
    "for i in range(len(tweets_df)):\n",
    "    tweet_body=tweets_df.iloc[i]['body'].replace('pic',' pic')\n",
    "    tweet_time=tweets_df.iloc[i]['time']\n",
    "    timestamp.append(get_time(tweet_time))\n",
    "    day.append(get_day(tweet_time))\n",
    "    month.append(get_month(tweet_time))\n",
    "    year.append(get_year(tweet_time))\n",
    "    hashtags.append([x.lower() for x in list(set(re.findall(r\"#(\\w+)\", tweet_body)))])\n",
    "    mentions.append(list(set(re.findall(r\"@(\\w+)\", tweet_body))))\n",
    "    hashtags_numbers.append(len(hashtags[-1]))\n",
    "    mentions_numbers.append(len(mentions[-1]))\n",
    "    urls=re.findall(r\"(http://[^ ]+)\", tweet_body)\n",
    "    urls.extend(re.findall(r\"(https://[^ ]+)\", tweet_body))\n",
    "    links.append([url.split()[0] for url in urls])\n",
    "tweets_df['timestamp']=timestamp\n",
    "tweets_df['year']=year\n",
    "tweets_df['month']=month\n",
    "tweets_df['day']=day\n",
    "tweets_df['hashtags']=hashtags\n",
    "tweets_df['mentions']=mentions\n",
    "tweets_df['hashtags_numbers']=hashtags_numbers\n",
    "tweets_df['mentions_numbers']=mentions_numbers\n",
    "tweets_df['links']=links\n",
    "#tweets_df.drop(columns=['time'],inplace=True)"
   ]
  },
  {
   "cell_type": "code",
   "execution_count": null,
   "metadata": {
    "collapsed": false
   },
   "outputs": [],
   "source": [
    "def get_frequency(df,target_column):\n",
    "    items_frequency={}\n",
    "    for i in range(len(df)):\n",
    "        tweet=df.iloc[i]\n",
    "        for item in tweet[target_column]:\n",
    "            if(item in items_frequency):\n",
    "                items_frequency[str(item).lower()]+=1\n",
    "            else:\n",
    "                items_frequency[str(item).lower()]=1\n",
    "    return items_frequency"
   ]
  },
  {
   "cell_type": "code",
   "execution_count": null,
   "metadata": {
    "collapsed": false
   },
   "outputs": [],
   "source": [
    "hashtags_frequency=get_frequency(tweet_time,\"hashtags\")\n",
    "top_hashtags=pd.DataFrame(sorted(hashtags_frequency.items(), key=lambda hashtags_frequency: hashtags_frequency[1],reverse=True)[:50],columns=['hashtag','frequency'])"
   ]
  },
  {
   "cell_type": "code",
   "execution_count": null,
   "metadata": {
    "collapsed": false
   },
   "outputs": [],
   "source": [
    "plot([go.Bar(x=top_hashtags.hashtag.values, y=top_hashtags.frequency.values)],filename='hashtags.html')"
   ]
  },
  {
   "cell_type": "markdown",
   "metadata": {},
   "source": [
    "## Hashtags Analysis"
   ]
  },
  {
   "cell_type": "code",
   "execution_count": null,
   "metadata": {
    "collapsed": true
   },
   "outputs": [],
   "source": [
    "nodes_list=[]\n",
    "for i in range(len(top_hashtags)):\n",
    "    node_id=top_hashtags.iloc[i]['hashtag']\n",
    "    node_size=top_hashtags.iloc[i]['frequency']/25\n",
    "    nodes_list.append({\"id\":node_id,\"size\":node_size})"
   ]
  },
  {
   "cell_type": "code",
   "execution_count": null,
   "metadata": {
    "collapsed": true
   },
   "outputs": [],
   "source": [
    "adj_matrix=pd.DataFrame(columns=[item['id'] for item in nodes_list],index=[item['id'] for item in nodes_list])\n",
    "adj_matrix.fillna(0,inplace=True)"
   ]
  },
  {
   "cell_type": "code",
   "execution_count": null,
   "metadata": {
    "collapsed": true
   },
   "outputs": [],
   "source": [
    "c=0\n",
    "for tweet_hashtag_list in tweets_df.hashtags:\n",
    "    for node in nodes_list:\n",
    "        target_hashtag=node['id']\n",
    "        if(target_hashtag in tweet_hashtag_list):\n",
    "            for tweet_hashtag in tweet_hashtag_list:\n",
    "                if(tweet_hashtag in adj_matrix.columns):\n",
    "                    adj_matrix.loc[target_hashtag,tweet_hashtag]+=1"
   ]
  },
  {
   "cell_type": "code",
   "execution_count": null,
   "metadata": {
    "collapsed": true
   },
   "outputs": [],
   "source": [
    "edges_list=[]\n",
    "for i in range(len(adj_matrix)):\n",
    "    for j in range(i+1,len(adj_matrix)):\n",
    "        s=adj_matrix.iloc[i].index[i]\n",
    "        t=adj_matrix.iloc[j].index[j]\n",
    "        v=adj_matrix.loc[s][t]/10\n",
    "        if(v>4.5):\n",
    "            nodes_ids=[item['id'] for item in nodes_list]\n",
    "            if(s in nodes_ids and t in nodes_ids):\n",
    "                edges_list.append({\"source\":s,\"target\":t,\"value\":v})"
   ]
  },
  {
   "cell_type": "code",
   "execution_count": null,
   "metadata": {
    "collapsed": true
   },
   "outputs": [],
   "source": [
    "import json\n",
    "with open(\"hashtagsGraph.json\",\"w\") as f:\n",
    "    json.dump({\"nodes\":nodes_list,\"links\":edges_list},f)"
   ]
  },
  {
   "cell_type": "code",
   "execution_count": null,
   "metadata": {
    "collapsed": false
   },
   "outputs": [],
   "source": [
    "print(len(nodes_list),(len(edges_list)))"
   ]
  },
  {
   "cell_type": "markdown",
   "metadata": {},
   "source": [
    "## Mentions Analysis"
   ]
  },
  {
   "cell_type": "code",
   "execution_count": null,
   "metadata": {
    "collapsed": true
   },
   "outputs": [],
   "source": [
    "top_mentioners=tweets_df[tweets_df.mentions_numbers>0].groupby(by=\"writer\").count().sort_values(by=\"mentions_numbers\",ascending=False).reset_index()[['writer','mentions_numbers']]"
   ]
  },
  {
   "cell_type": "code",
   "execution_count": null,
   "metadata": {
    "collapsed": true
   },
   "outputs": [],
   "source": [
    "top_mentioners=top_mentioners[top_mentioners.mentions_numbers>2]"
   ]
  },
  {
   "cell_type": "code",
   "execution_count": null,
   "metadata": {
    "collapsed": false
   },
   "outputs": [],
   "source": [
    "top_mentioners"
   ]
  },
  {
   "cell_type": "code",
   "execution_count": null,
   "metadata": {
    "collapsed": true
   },
   "outputs": [],
   "source": [
    "top_mentioners_tweets=tweets_df.merge(top_mentioners,on=['writer'])"
   ]
  },
  {
   "cell_type": "code",
   "execution_count": null,
   "metadata": {
    "collapsed": true
   },
   "outputs": [],
   "source": [
    "mentions_frequency=get_frequency(tweets_df,\"mentions\")\n",
    "top_mentions=pd.DataFrame(sorted(mentions_frequency.items(), key=lambda mentions_frequency: mentions_frequency[1],reverse=True)[:50],columns=['mentioned','frequency'])"
   ]
  },
  {
   "cell_type": "code",
   "execution_count": null,
   "metadata": {
    "collapsed": false
   },
   "outputs": [],
   "source": [
    "plot([go.Bar(x=top_mentions.mentioned.values, y=top_mentions.frequency.values)],filename='mentions.html')"
   ]
  },
  {
   "cell_type": "code",
   "execution_count": null,
   "metadata": {
    "collapsed": true
   },
   "outputs": [],
   "source": [
    "top_mentioners_people_for_writers={}\n",
    "for writer in top_mentioners.writer:\n",
    "    writer_tweets=top_mentioners_tweets[top_mentioners_tweets.writer==writer]\n",
    "    mentioned_people=get_frequency(writer_tweets,\"mentions\")\n",
    "    top_mentioners_people_for_writers[writer]=sorted(mentioned_people.items(), key=lambda mentioned_people: mentioned_people[1],reverse=True)"
   ]
  },
  {
   "cell_type": "code",
   "execution_count": null,
   "metadata": {
    "collapsed": false
   },
   "outputs": [],
   "source": [
    "top_mentioners_people_for_writers"
   ]
  },
  {
   "cell_type": "code",
   "execution_count": null,
   "metadata": {
    "collapsed": false
   },
   "outputs": [],
   "source": [
    "tweets_df"
   ]
  },
  {
   "cell_type": "code",
   "execution_count": null,
   "metadata": {
    "collapsed": true
   },
   "outputs": [],
   "source": []
  }
 ],
 "metadata": {
  "kernelspec": {
   "display_name": "Python 3",
   "language": "python",
   "name": "python3"
  },
  "language_info": {
   "codemirror_mode": {
    "name": "ipython",
    "version": 3
   },
   "file_extension": ".py",
   "mimetype": "text/x-python",
   "name": "python",
   "nbconvert_exporter": "python",
   "pygments_lexer": "ipython3",
   "version": "3.6.8"
  }
 },
 "nbformat": 4,
 "nbformat_minor": 2
}
