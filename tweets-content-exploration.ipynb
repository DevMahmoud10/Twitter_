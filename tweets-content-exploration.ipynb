{
 "cells": [
  {
   "cell_type": "code",
   "execution_count": 55,
   "metadata": {},
   "outputs": [],
   "source": [
    "%reload_ext autoreload\n",
    "%autoreload 2\n",
    "%matplotlib inline"
   ]
  },
  {
   "cell_type": "code",
   "execution_count": 56,
   "metadata": {},
   "outputs": [],
   "source": [
    "import pandas as pd\n",
    "import numpy as np\n",
    "import matplotlib.pyplot as plt\n",
    "import re\n",
    "import datetime"
   ]
  },
  {
   "cell_type": "markdown",
   "metadata": {},
   "source": [
    "## looking into data"
   ]
  },
  {
   "cell_type": "code",
   "execution_count": 65,
   "metadata": {},
   "outputs": [
    {
     "data": {
      "text/html": [
       "<div>\n",
       "<style scoped>\n",
       "    .dataframe tbody tr th:only-of-type {\n",
       "        vertical-align: middle;\n",
       "    }\n",
       "\n",
       "    .dataframe tbody tr th {\n",
       "        vertical-align: top;\n",
       "    }\n",
       "\n",
       "    .dataframe thead th {\n",
       "        text-align: right;\n",
       "    }\n",
       "</style>\n",
       "<table border=\"1\" class=\"dataframe\">\n",
       "  <thead>\n",
       "    <tr style=\"text-align: right;\">\n",
       "      <th></th>\n",
       "      <th>0</th>\n",
       "      <th>1</th>\n",
       "      <th>2</th>\n",
       "      <th>3</th>\n",
       "      <th>4</th>\n",
       "    </tr>\n",
       "  </thead>\n",
       "  <tbody>\n",
       "    <tr>\n",
       "      <th>body</th>\n",
       "      <td>\"Return [data, loading, error];}\" http://socia...</td>\n",
       "      <td>Late tweet, 5th 6th (Days 53, 54). Very little...</td>\n",
       "      <td>Vue.js 2 Essentials: Build Your First Vue App☞...</td>\n",
       "      <td>When u write 500 lines of codes and exit witho...</td>\n",
       "      <td>My #first chat app hope to collaborate #javasc...</td>\n",
       "    </tr>\n",
       "    <tr>\n",
       "      <th>likes</th>\n",
       "      <td>0</td>\n",
       "      <td>0</td>\n",
       "      <td>0</td>\n",
       "      <td>2</td>\n",
       "      <td>NaN</td>\n",
       "    </tr>\n",
       "    <tr>\n",
       "      <th>link</th>\n",
       "      <td>/eibrahim/status/1093513673618964480</td>\n",
       "      <td>/L1K3R0535/status/1093513800098242565</td>\n",
       "      <td>/javascript_devv/status/1093514298486341632</td>\n",
       "      <td>/BarineSambaris/status/1092896518573568008</td>\n",
       "      <td>/GoodwishSifiso/status/1093224111919251456</td>\n",
       "    </tr>\n",
       "    <tr>\n",
       "      <th>replies</th>\n",
       "      <td>0</td>\n",
       "      <td>0</td>\n",
       "      <td>0</td>\n",
       "      <td>3</td>\n",
       "      <td>NaN</td>\n",
       "    </tr>\n",
       "    <tr>\n",
       "      <th>retweets</th>\n",
       "      <td>NaN</td>\n",
       "      <td>3</td>\n",
       "      <td>0</td>\n",
       "      <td>0</td>\n",
       "      <td>0</td>\n",
       "    </tr>\n",
       "    <tr>\n",
       "      <th>time</th>\n",
       "      <td>6:15 AM - 7 Feb 2019</td>\n",
       "      <td>6:16 AM - 7 Feb 2019</td>\n",
       "      <td>6:18 AM - 7 Feb 2019</td>\n",
       "      <td>1:23 PM - 5 Feb 2019</td>\n",
       "      <td>11:05 AM - 6 Feb 2019</td>\n",
       "    </tr>\n",
       "    <tr>\n",
       "      <th>writer</th>\n",
       "      <td>@eibrahim</td>\n",
       "      <td>@L1K3R0535</td>\n",
       "      <td>@javascript_devv</td>\n",
       "      <td>@BarineSambaris</td>\n",
       "      <td>@GoodwishSifiso</td>\n",
       "    </tr>\n",
       "  </tbody>\n",
       "</table>\n",
       "</div>"
      ],
      "text/plain": [
       "                                                          0  \\\n",
       "body      \"Return [data, loading, error];}\" http://socia...   \n",
       "likes                                                     0   \n",
       "link                   /eibrahim/status/1093513673618964480   \n",
       "replies                                                   0   \n",
       "retweets                                                NaN   \n",
       "time                                   6:15 AM - 7 Feb 2019   \n",
       "writer                                            @eibrahim   \n",
       "\n",
       "                                                          1  \\\n",
       "body      Late tweet, 5th 6th (Days 53, 54). Very little...   \n",
       "likes                                                     0   \n",
       "link                  /L1K3R0535/status/1093513800098242565   \n",
       "replies                                                   0   \n",
       "retweets                                                  3   \n",
       "time                                   6:16 AM - 7 Feb 2019   \n",
       "writer                                           @L1K3R0535   \n",
       "\n",
       "                                                          2  \\\n",
       "body      Vue.js 2 Essentials: Build Your First Vue App☞...   \n",
       "likes                                                     0   \n",
       "link            /javascript_devv/status/1093514298486341632   \n",
       "replies                                                   0   \n",
       "retweets                                                  0   \n",
       "time                                   6:18 AM - 7 Feb 2019   \n",
       "writer                                     @javascript_devv   \n",
       "\n",
       "                                                          3  \\\n",
       "body      When u write 500 lines of codes and exit witho...   \n",
       "likes                                                     2   \n",
       "link             /BarineSambaris/status/1092896518573568008   \n",
       "replies                                                   3   \n",
       "retweets                                                  0   \n",
       "time                                   1:23 PM - 5 Feb 2019   \n",
       "writer                                      @BarineSambaris   \n",
       "\n",
       "                                                          4  \n",
       "body      My #first chat app hope to collaborate #javasc...  \n",
       "likes                                                   NaN  \n",
       "link             /GoodwishSifiso/status/1093224111919251456  \n",
       "replies                                                 NaN  \n",
       "retweets                                                  0  \n",
       "time                                  11:05 AM - 6 Feb 2019  \n",
       "writer                                      @GoodwishSifiso  "
      ]
     },
     "execution_count": 65,
     "metadata": {},
     "output_type": "execute_result"
    }
   ],
   "source": [
    "tweets_df = pd.read_csv(\"dataset/javascript_top.csv\")\n",
    "tweets_df.head().T"
   ]
  },
  {
   "cell_type": "code",
   "execution_count": 66,
   "metadata": {},
   "outputs": [
    {
     "data": {
      "text/plain": [
       "body          0\n",
       "likes        17\n",
       "link          0\n",
       "replies     172\n",
       "retweets     40\n",
       "time          0\n",
       "writer        0\n",
       "dtype: int64"
      ]
     },
     "execution_count": 66,
     "metadata": {},
     "output_type": "execute_result"
    }
   ],
   "source": [
    "tweets_df.isna().sum()"
   ]
  },
  {
   "cell_type": "markdown",
   "metadata": {},
   "source": [
    "### we found that all missing values are in fact  0 so we change them to 0"
   ]
  },
  {
   "cell_type": "code",
   "execution_count": 67,
   "metadata": {},
   "outputs": [],
   "source": [
    "tweets_df.replies.fillna(0,inplace=True)\n",
    "tweets_df.retweets.fillna(0,inplace=True)\n",
    "tweets_df.likes.fillna(0,inplace=True)"
   ]
  },
  {
   "cell_type": "markdown",
   "metadata": {},
   "source": [
    "### now we will convert our time feature to 3 features day and month and year"
   ]
  },
  {
   "cell_type": "code",
   "execution_count": 68,
   "metadata": {},
   "outputs": [],
   "source": [
    "months = {'jan':1, 'feb':2, 'mar':3, 'apr':4,\n",
    "          'may':5, 'jun':6, 'jul':7, 'aug':8,\n",
    "          'sep':9, 'oct':10, 'nov':11, 'dec':12}\n",
    "\n",
    "def get_time(date_time):\n",
    "    return date_time.split('-')[0].strip()\n",
    "\n",
    "def get_day(date_time):\n",
    "    return int(date_time.split('-')[1].strip().split(' ')[0].strip())\n",
    "\n",
    "def get_month(date_time):\n",
    "    return months[date_time.split('-')[1].strip().split(' ')[1].strip().lower()]\n",
    "\n",
    "def get_year(date_time):\n",
    "    return int(date_time.split('-')[1].strip().split(' ')[2].strip())"
   ]
  },
  {
   "cell_type": "code",
   "execution_count": 69,
   "metadata": {},
   "outputs": [],
   "source": [
    "def get_time_column(df, column_name):\n",
    "    date_list = []\n",
    "    column = df[column_name]\n",
    "    for item in column:\n",
    "        time = get_time(item)\n",
    "        day = get_day(item)\n",
    "        month = get_month(item)\n",
    "        year = get_year(item)\n",
    "        date_list.append(f'{time} - {day}/{month}/{year}')\n",
    "    return pd.to_datetime(date_list, format='%I:%M %p - %d/%m/%Y')\n",
    "tweets_df['time'] = get_time_column(tweets_df, 'time')\n",
    "tweets_df['hour'] = tweets_df.time.dt.hour "
   ]
  },
  {
   "cell_type": "markdown",
   "metadata": {},
   "source": [
    "## Content exploration per period"
   ]
  },
  {
   "cell_type": "code",
   "execution_count": 78,
   "metadata": {},
   "outputs": [],
   "source": [
    "def get_top_content(df, periods):\n",
    "    top_content = []\n",
    "    df['time-period'] = df.hour//4\n",
    "    for period in range(periods):\n",
    "        top_content.append(df[df['time-period'] == period])\n",
    "    df.drop(columns=['time-period'], inplace=True)\n",
    "    return top_content"
   ]
  },
  {
   "cell_type": "code",
   "execution_count": 79,
   "metadata": {},
   "outputs": [],
   "source": [
    "x = get_top_content(tweets_df, 6)"
   ]
  },
  {
   "cell_type": "code",
   "execution_count": 89,
   "metadata": {},
   "outputs": [
    {
     "data": {
      "text/plain": [
       "array([1, 2, 0, 3])"
      ]
     },
     "execution_count": 89,
     "metadata": {},
     "output_type": "execute_result"
    }
   ],
   "source": [
    "x[0].hour.unique()"
   ]
  }
 ],
 "metadata": {
  "kernelspec": {
   "display_name": "Python 3",
   "language": "python",
   "name": "python3"
  },
  "language_info": {
   "codemirror_mode": {
    "name": "ipython",
    "version": 3
   },
   "file_extension": ".py",
   "mimetype": "text/x-python",
   "name": "python",
   "nbconvert_exporter": "python",
   "pygments_lexer": "ipython3",
   "version": "3.6.6"
  }
 },
 "nbformat": 4,
 "nbformat_minor": 2
}
