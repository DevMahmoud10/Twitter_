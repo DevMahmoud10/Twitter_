{
 "cells": [
  {
   "cell_type": "code",
   "execution_count": 1,
   "metadata": {
    "collapsed": true
   },
   "outputs": [
    {
     "data": {
      "text/html": [
       "<script>requirejs.config({paths: { 'plotly': ['https://cdn.plot.ly/plotly-latest.min']},});if(!window.Plotly) {{require(['plotly'],function(plotly) {window.Plotly=plotly;});}}</script>"
      ],
      "text/vnd.plotly.v1+html": [
       "<script>requirejs.config({paths: { 'plotly': ['https://cdn.plot.ly/plotly-latest.min']},});if(!window.Plotly) {{require(['plotly'],function(plotly) {window.Plotly=plotly;});}}</script>"
      ]
     },
     "metadata": {},
     "output_type": "display_data"
    }
   ],
   "source": [
    "import pandas as pd\n",
    "import numpy as np\n",
    "import re\n",
    "import ast\n",
    "import matplotlib.pyplot as plt\n",
    "import plotly.plotly as py\n",
    "import seaborn as sns\n",
    "import plotly.graph_objs as go\n",
    "from plotly import __version__\n",
    "from plotly.offline import download_plotlyjs, init_notebook_mode, plot, iplot\n",
    "%matplotlib inline\n",
    "init_notebook_mode(connected=True)"
   ]
  },
  {
   "cell_type": "code",
   "execution_count": 2,
   "metadata": {
    "collapsed": false
   },
   "outputs": [],
   "source": [
    "tweets_df=pd.read_csv(\"dataset/javascript_top.csv\")\n",
    "tweets_df.replies.fillna(0,inplace=True)\n",
    "tweets_df.retweets.fillna(0,inplace=True)\n",
    "tweets_df.likes.fillna(0,inplace=True)"
   ]
  },
  {
   "cell_type": "code",
   "execution_count": 3,
   "metadata": {
    "collapsed": true
   },
   "outputs": [],
   "source": [
    "def get_time(date_time):\n",
    "    return date_time.split('-')[0].strip()\n",
    "\n",
    "def get_day(date_time):\n",
    "    return date_time.split('-')[1].strip().split(' ')[0].strip()\n",
    "\n",
    "def get_month(date_time):\n",
    "    return date_time.split('-')[1].strip().split(' ')[1].strip()\n",
    "\n",
    "def get_year(date_time):\n",
    "    return date_time.split('-')[1].strip().split(' ')[2].strip()\n",
    "\n"
   ]
  },
  {
   "cell_type": "code",
   "execution_count": 4,
   "metadata": {
    "collapsed": true
   },
   "outputs": [],
   "source": [
    "day=[]\n",
    "month=[]\n",
    "year=[]\n",
    "timestamp=[]\n",
    "hashtags=[]\n",
    "mentions=[]\n",
    "links=[]\n",
    "for i in range(len(tweets_df)):\n",
    "    tweet_body=tweets_df.iloc[i]['body'].replace('pic',' pic')\n",
    "    tweet_time=tweets_df.iloc[i]['time']\n",
    "    timestamp.append(get_time(tweet_time))\n",
    "    day.append(get_day(tweet_time))\n",
    "    month.append(get_month(tweet_time))\n",
    "    year.append(get_year(tweet_time))\n",
    "    hashtags.append([x.lower() for x in list(set(re.findall(r\"#(\\w+)\", tweet_body)))])\n",
    "    mentions.append(list(set(re.findall(r\"@(\\w+)\", tweet_body))))\n",
    "    urls=re.findall(r\"(http://[^ ]+)\", tweet_body)\n",
    "    urls.extend(re.findall(r\"(https://[^ ]+)\", tweet_body))\n",
    "    links.append([url.split()[0] for url in urls])\n",
    "tweets_df['timestamp']=timestamp\n",
    "tweets_df['year']=year\n",
    "tweets_df['month']=month\n",
    "tweets_df['day']=day\n",
    "tweets_df['hashtags']=hashtags\n",
    "tweets_df['mentions']=mentions\n",
    "tweets_df['links']=links\n",
    "#tweets_df.drop(columns=['time'],inplace=True)"
   ]
  },
  {
   "cell_type": "code",
   "execution_count": 5,
   "metadata": {
    "collapsed": false
   },
   "outputs": [
    {
     "data": {
      "text/plain": [
       "['html', 'css', 'python', '100daysofcode', 'programming', 'javascript', 'code']"
      ]
     },
     "execution_count": 5,
     "metadata": {},
     "output_type": "execute_result"
    }
   ],
   "source": [
    "tweets_df.iloc[1]['hashtags']"
   ]
  },
  {
   "cell_type": "code",
   "execution_count": 6,
   "metadata": {
    "collapsed": false
   },
   "outputs": [],
   "source": [
    "hashtags_frequency={}\n",
    "for i in range(len(tweets_df)):\n",
    "    tweet=tweets_df.iloc[i]\n",
    "    for hashtag in tweet['hashtags']:\n",
    "        if(hashtag in hashtags_frequency):\n",
    "            hashtags_frequency[str(hashtag).lower()]+=1\n",
    "        else:\n",
    "            hashtags_frequency[str(hashtag).lower()]=1"
   ]
  },
  {
   "cell_type": "code",
   "execution_count": 81,
   "metadata": {
    "collapsed": false
   },
   "outputs": [],
   "source": [
    "top_hashtags=pd.DataFrame(sorted(hashtags_frequency.items(), key=lambda hashtags_frequency: hashtags_frequency[1],reverse=True)[:50],columns=['hashtag','frequency'])"
   ]
  },
  {
   "cell_type": "code",
   "execution_count": 8,
   "metadata": {
    "collapsed": false
   },
   "outputs": [
    {
     "data": {
      "text/plain": [
       "'file:///home/mahmoud/sipof.ink/JupyterProjects/socialMediaAnalysis/Twitter_Analytics/temp-plot.html'"
      ]
     },
     "execution_count": 8,
     "metadata": {},
     "output_type": "execute_result"
    }
   ],
   "source": [
    "plot([go.Bar(x=top_hashtags.hashtag.values, y=top_hashtags.frequency.values)])"
   ]
  },
  {
   "cell_type": "markdown",
   "metadata": {},
   "source": [
    "## Hashtags Analysis"
   ]
  },
  {
   "cell_type": "code",
   "execution_count": 107,
   "metadata": {},
   "outputs": [],
   "source": [
    "nodes_list=[]\n",
    "for i in range(len(top_hashtags)):\n",
    "    node_id=top_hashtags.iloc[i]['hashtag']\n",
    "    node_size=top_hashtags.iloc[i]['frequency']/100\n",
    "    nodes_list.append({\"id\":node_id,\"size\":node_size})"
   ]
  },
  {
   "cell_type": "code",
   "execution_count": 109,
   "metadata": {},
   "outputs": [],
   "source": [
    "adj_matrix=pd.DataFrame(columns=[item['id'] for item in nodes_list],index=[item['id'] for item in nodes_list])\n",
    "adj_matrix.fillna(0,inplace=True)"
   ]
  },
  {
   "cell_type": "code",
   "execution_count": 113,
   "metadata": {},
   "outputs": [],
   "source": [
    "c=0\n",
    "for tweet_hashtag_list in tweets_df.hashtags:\n",
    "    for node in nodes_list:\n",
    "        target_hashtag=node['id']\n",
    "        if(target_hashtag in tweet_hashtag_list):\n",
    "            for tweet_hashtag in tweet_hashtag_list:\n",
    "                if(tweet_hashtag in adj_matrix.columns):\n",
    "                    adj_matrix.loc[target_hashtag,tweet_hashtag]+=1"
   ]
  },
  {
   "cell_type": "code",
   "execution_count": 120,
   "metadata": {},
   "outputs": [],
   "source": [
    "edges_list=[]\n",
    "for i in range(len(adj_matrix)):\n",
    "    for j in range(i+1,len(adj_matrix)):\n",
    "        s=adj_matrix.iloc[i].index[i]\n",
    "        t=adj_matrix.iloc[j].index[j]\n",
    "        v=adj_matrix.loc[s][t]/10\n",
    "        if(v>1.5):\n",
    "            nodes_ids=[item['id'] for item in nodes_list]\n",
    "            if(s in nodes_ids and t in nodes_ids):\n",
    "                edges_list.append({\"source\":s,\"target\":t,\"value\":v})"
   ]
  },
  {
   "cell_type": "code",
   "execution_count": 121,
   "metadata": {},
   "outputs": [],
   "source": [
    "import json\n",
    "with open(\"hashtagsGraph.json\",\"w\") as f:\n",
    "    json.dump({\"nodes\":nodes_list,\"links\":edges_list},f)"
   ]
  },
  {
   "cell_type": "code",
   "execution_count": null,
   "metadata": {},
   "outputs": [],
   "source": []
  }
 ],
 "metadata": {
  "kernelspec": {
   "display_name": "Python 3",
   "language": "python",
   "name": "python3"
  },
  "language_info": {
   "codemirror_mode": {
    "name": "ipython",
    "version": 3
   },
   "file_extension": ".py",
   "mimetype": "text/x-python",
   "name": "python",
   "nbconvert_exporter": "python",
   "pygments_lexer": "ipython3",
   "version": "3.6.8"
  }
 },
 "nbformat": 4,
 "nbformat_minor": 2
}
