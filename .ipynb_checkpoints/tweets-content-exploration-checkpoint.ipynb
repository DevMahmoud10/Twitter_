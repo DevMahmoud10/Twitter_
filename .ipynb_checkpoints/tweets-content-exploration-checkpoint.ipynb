{
 "cells": [
  {
   "cell_type": "code",
   "execution_count": null,
   "metadata": {},
   "outputs": [],
   "source": [
    "%reload_ext autoreload\n",
    "%autoreload 2\n",
    "%matplotlib inline"
   ]
  },
  {
   "cell_type": "code",
   "execution_count": null,
   "metadata": {},
   "outputs": [],
   "source": [
    "import pandas as pd\n",
    "import numpy as np\n",
    "import matplotlib.pyplot as plt\n",
    "import re\n",
    "import datetime"
   ]
  },
  {
   "cell_type": "markdown",
   "metadata": {},
   "source": [
    "## looking into data"
   ]
  },
  {
   "cell_type": "code",
   "execution_count": null,
   "metadata": {},
   "outputs": [],
   "source": [
    "tweets_df = pd.read_csv(\"dataset/javascript_top.csv\")\n",
    "tweets_df.head().T"
   ]
  },
  {
   "cell_type": "code",
   "execution_count": null,
   "metadata": {},
   "outputs": [],
   "source": [
    "tweets_df.isna().sum()"
   ]
  },
  {
   "cell_type": "markdown",
   "metadata": {},
   "source": [
    "### we found that all missing values are in fact  0 so we change them to 0"
   ]
  },
  {
   "cell_type": "code",
   "execution_count": null,
   "metadata": {},
   "outputs": [],
   "source": [
    "tweets_df.replies.fillna(0,inplace=True)\n",
    "tweets_df.retweets.fillna(0,inplace=True)\n",
    "tweets_df.likes.fillna(0,inplace=True)"
   ]
  },
  {
   "cell_type": "markdown",
   "metadata": {},
   "source": [
    "### now we will convert our time feature to 3 features day and month and year"
   ]
  },
  {
   "cell_type": "code",
   "execution_count": null,
   "metadata": {},
   "outputs": [],
   "source": [
    "months = {'jan':1, 'feb':2, 'mar':3, 'apr':4,\n",
    "          'may':5, 'jun':6, 'jul':7, 'aug':8,\n",
    "          'sep':9, 'oct':10, 'nov':11, 'dec':12}\n",
    "\n",
    "def get_time(date_time):\n",
    "    return date_time.split('-')[0].strip()\n",
    "\n",
    "def get_day(date_time):\n",
    "    return int(date_time.split('-')[1].strip().split(' ')[0].strip())\n",
    "\n",
    "def get_month(date_time):\n",
    "    return months[date_time.split('-')[1].strip().split(' ')[1].strip().lower()]\n",
    "\n",
    "def get_year(date_time):\n",
    "    return int(date_time.split('-')[1].strip().split(' ')[2].strip())"
   ]
  },
  {
   "cell_type": "code",
   "execution_count": null,
   "metadata": {},
   "outputs": [],
   "source": [
    "def get_time_column(df, column_name):\n",
    "    date_list = []\n",
    "    column = df[column_name]\n",
    "    for item in column:\n",
    "        time = get_time(item)\n",
    "        day = get_day(item)\n",
    "        month = get_month(item)\n",
    "        year = get_year(item)\n",
    "        date_list.append(f'{time} - {day}/{month}/{year}')\n",
    "    return pd.to_datetime(date_list, format='%I:%M %p - %d/%m/%Y')\n",
    "tweets_df['time'] = get_time_column(tweets_df, 'time')\n",
    "tweets_df['hour'] = tweets_df.time.dt.hour "
   ]
  },
  {
   "cell_type": "markdown",
   "metadata": {},
   "source": [
    "## Content exploration per period"
   ]
  },
  {
   "cell_type": "code",
   "execution_count": null,
   "metadata": {},
   "outputs": [],
   "source": [
    "def get_top_content(df, periods):\n",
    "    top_content = []\n",
    "    df['time-period'] = df.hour//4\n",
    "    for period in range(periods):\n",
    "        top_content.append(df[df['time-period'] == period])\n",
    "    df.drop(columns=['time-period'], inplace=True)\n",
    "    return top_content"
   ]
  },
  {
   "cell_type": "code",
   "execution_count": null,
   "metadata": {},
   "outputs": [],
   "source": [
    "x = get_top_content(tweets_df, 6)"
   ]
  },
  {
   "cell_type": "code",
   "execution_count": null,
   "metadata": {},
   "outputs": [],
   "source": [
    "x[0].hour.unique()"
   ]
  }
 ],
 "metadata": {
  "kernelspec": {
   "display_name": "Python 3",
   "language": "python",
   "name": "python3"
  },
  "language_info": {
   "codemirror_mode": {
    "name": "ipython",
    "version": 3
   },
   "file_extension": ".py",
   "mimetype": "text/x-python",
   "name": "python",
   "nbconvert_exporter": "python",
   "pygments_lexer": "ipython3",
   "version": "3.6.6"
  }
 },
 "nbformat": 4,
 "nbformat_minor": 2
}
