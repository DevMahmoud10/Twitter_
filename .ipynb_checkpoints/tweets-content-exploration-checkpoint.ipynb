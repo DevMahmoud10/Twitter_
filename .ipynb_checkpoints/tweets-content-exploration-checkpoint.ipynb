{
 "cells": [
  {
   "cell_type": "code",
   "execution_count": 1,
   "metadata": {
    "collapsed": true
   },
   "outputs": [],
   "source": [
    "%reload_ext autoreload\n",
    "%autoreload 2\n",
    "%matplotlib inline"
   ]
  },
  {
   "cell_type": "code",
   "execution_count": 2,
   "metadata": {
    "collapsed": true
   },
   "outputs": [],
   "source": [
    "import pandas as pd\n",
    "import numpy as np\n",
    "import matplotlib.pyplot as plt\n",
    "import re\n",
    "import datetime\n",
    "from sklearn.feature_extraction.text import TfidfVectorizer\n",
    "from nltk.corpus import stopwords\n",
    "#from nltk.tokenize import word_tokenize"
   ]
  },
  {
   "cell_type": "markdown",
   "metadata": {},
   "source": [
    "## looking into data"
   ]
  },
  {
   "cell_type": "code",
   "execution_count": 3,
   "metadata": {
    "collapsed": false
   },
   "outputs": [
    {
     "data": {
      "text/html": [
       "<div>\n",
       "<style scoped>\n",
       "    .dataframe tbody tr th:only-of-type {\n",
       "        vertical-align: middle;\n",
       "    }\n",
       "\n",
       "    .dataframe tbody tr th {\n",
       "        vertical-align: top;\n",
       "    }\n",
       "\n",
       "    .dataframe thead th {\n",
       "        text-align: right;\n",
       "    }\n",
       "</style>\n",
       "<table border=\"1\" class=\"dataframe\">\n",
       "  <thead>\n",
       "    <tr style=\"text-align: right;\">\n",
       "      <th></th>\n",
       "      <th>0</th>\n",
       "      <th>1</th>\n",
       "      <th>2</th>\n",
       "      <th>3</th>\n",
       "      <th>4</th>\n",
       "    </tr>\n",
       "  </thead>\n",
       "  <tbody>\n",
       "    <tr>\n",
       "      <th>body</th>\n",
       "      <td>\"Return [data, loading, error];}\" http://socia...</td>\n",
       "      <td>Late tweet, 5th 6th (Days 53, 54). Very little...</td>\n",
       "      <td>Vue.js 2 Essentials: Build Your First Vue App☞...</td>\n",
       "      <td>When u write 500 lines of codes and exit witho...</td>\n",
       "      <td>My #first chat app hope to collaborate #javasc...</td>\n",
       "    </tr>\n",
       "    <tr>\n",
       "      <th>likes</th>\n",
       "      <td>0</td>\n",
       "      <td>0</td>\n",
       "      <td>0</td>\n",
       "      <td>2</td>\n",
       "      <td>NaN</td>\n",
       "    </tr>\n",
       "    <tr>\n",
       "      <th>link</th>\n",
       "      <td>/eibrahim/status/1093513673618964480</td>\n",
       "      <td>/L1K3R0535/status/1093513800098242565</td>\n",
       "      <td>/javascript_devv/status/1093514298486341632</td>\n",
       "      <td>/BarineSambaris/status/1092896518573568008</td>\n",
       "      <td>/GoodwishSifiso/status/1093224111919251456</td>\n",
       "    </tr>\n",
       "    <tr>\n",
       "      <th>replies</th>\n",
       "      <td>0</td>\n",
       "      <td>0</td>\n",
       "      <td>0</td>\n",
       "      <td>3</td>\n",
       "      <td>NaN</td>\n",
       "    </tr>\n",
       "    <tr>\n",
       "      <th>retweets</th>\n",
       "      <td>NaN</td>\n",
       "      <td>3</td>\n",
       "      <td>0</td>\n",
       "      <td>0</td>\n",
       "      <td>0</td>\n",
       "    </tr>\n",
       "    <tr>\n",
       "      <th>time</th>\n",
       "      <td>6:15 AM - 7 Feb 2019</td>\n",
       "      <td>6:16 AM - 7 Feb 2019</td>\n",
       "      <td>6:18 AM - 7 Feb 2019</td>\n",
       "      <td>1:23 PM - 5 Feb 2019</td>\n",
       "      <td>11:05 AM - 6 Feb 2019</td>\n",
       "    </tr>\n",
       "    <tr>\n",
       "      <th>writer</th>\n",
       "      <td>@eibrahim</td>\n",
       "      <td>@L1K3R0535</td>\n",
       "      <td>@javascript_devv</td>\n",
       "      <td>@BarineSambaris</td>\n",
       "      <td>@GoodwishSifiso</td>\n",
       "    </tr>\n",
       "  </tbody>\n",
       "</table>\n",
       "</div>"
      ],
      "text/plain": [
       "                                                          0  \\\n",
       "body      \"Return [data, loading, error];}\" http://socia...   \n",
       "likes                                                     0   \n",
       "link                   /eibrahim/status/1093513673618964480   \n",
       "replies                                                   0   \n",
       "retweets                                                NaN   \n",
       "time                                   6:15 AM - 7 Feb 2019   \n",
       "writer                                            @eibrahim   \n",
       "\n",
       "                                                          1  \\\n",
       "body      Late tweet, 5th 6th (Days 53, 54). Very little...   \n",
       "likes                                                     0   \n",
       "link                  /L1K3R0535/status/1093513800098242565   \n",
       "replies                                                   0   \n",
       "retweets                                                  3   \n",
       "time                                   6:16 AM - 7 Feb 2019   \n",
       "writer                                           @L1K3R0535   \n",
       "\n",
       "                                                          2  \\\n",
       "body      Vue.js 2 Essentials: Build Your First Vue App☞...   \n",
       "likes                                                     0   \n",
       "link            /javascript_devv/status/1093514298486341632   \n",
       "replies                                                   0   \n",
       "retweets                                                  0   \n",
       "time                                   6:18 AM - 7 Feb 2019   \n",
       "writer                                     @javascript_devv   \n",
       "\n",
       "                                                          3  \\\n",
       "body      When u write 500 lines of codes and exit witho...   \n",
       "likes                                                     2   \n",
       "link             /BarineSambaris/status/1092896518573568008   \n",
       "replies                                                   3   \n",
       "retweets                                                  0   \n",
       "time                                   1:23 PM - 5 Feb 2019   \n",
       "writer                                      @BarineSambaris   \n",
       "\n",
       "                                                          4  \n",
       "body      My #first chat app hope to collaborate #javasc...  \n",
       "likes                                                   NaN  \n",
       "link             /GoodwishSifiso/status/1093224111919251456  \n",
       "replies                                                 NaN  \n",
       "retweets                                                  0  \n",
       "time                                  11:05 AM - 6 Feb 2019  \n",
       "writer                                      @GoodwishSifiso  "
      ]
     },
     "execution_count": 3,
     "metadata": {},
     "output_type": "execute_result"
    }
   ],
   "source": [
    "tweets_df = pd.read_csv(\"dataset/javascript_top.csv\")\n",
    "tweets_df.head().T"
   ]
  },
  {
   "cell_type": "markdown",
   "metadata": {},
   "source": [
    "### we found that all missing values are in fact  0 so we change them to 0"
   ]
  },
  {
   "cell_type": "code",
   "execution_count": 4,
   "metadata": {
    "collapsed": true
   },
   "outputs": [],
   "source": [
    "tweets_df.replies.fillna(0,inplace=True)\n",
    "tweets_df.retweets.fillna(0,inplace=True)\n",
    "tweets_df.likes.fillna(0,inplace=True)"
   ]
  },
  {
   "cell_type": "markdown",
   "metadata": {},
   "source": [
    "### now we will convert our time feature to 3 features day and month and year"
   ]
  },
  {
   "cell_type": "code",
   "execution_count": 5,
   "metadata": {
    "collapsed": true
   },
   "outputs": [],
   "source": [
    "months = {'jan':1, 'feb':2, 'mar':3, 'apr':4,\n",
    "          'may':5, 'jun':6, 'jul':7, 'aug':8,\n",
    "          'sep':9, 'oct':10, 'nov':11, 'dec':12}\n",
    "\n",
    "def get_time(date_time):\n",
    "    return date_time.split('-')[0].strip()\n",
    "\n",
    "def get_day(date_time):\n",
    "    return int(date_time.split('-')[1].strip().split(' ')[0].strip())\n",
    "\n",
    "def get_month(date_time):\n",
    "    return months[date_time.split('-')[1].strip().split(' ')[1].strip().lower()]\n",
    "\n",
    "def get_year(date_time):\n",
    "    return int(date_time.split('-')[1].strip().split(' ')[2].strip())"
   ]
  },
  {
   "cell_type": "code",
   "execution_count": 6,
   "metadata": {
    "collapsed": true
   },
   "outputs": [],
   "source": [
    "def get_time_column(df, column_name):\n",
    "    date_list = []\n",
    "    column = df[column_name]\n",
    "    for item in column:\n",
    "        time = get_time(item)\n",
    "        day = get_day(item)\n",
    "        month = get_month(item)\n",
    "        year = get_year(item)\n",
    "        date_list.append(f'{time} - {day}/{month}/{year}')\n",
    "    return pd.to_datetime(date_list, format='%I:%M %p - %d/%m/%Y')\n",
    "tweets_df['time'] = get_time_column(tweets_df, 'time')"
   ]
  },
  {
   "cell_type": "markdown",
   "metadata": {},
   "source": [
    "## Content exploration per period"
   ]
  },
  {
   "cell_type": "code",
   "execution_count": 7,
   "metadata": {
    "collapsed": true
   },
   "outputs": [],
   "source": [
    "def get_tweets_between(start_hour, start_day, start_month, start_year,\n",
    "                            end_hour, end_day, end_month, end_year):\n",
    "    start_time = datetime.datetime(start_year, start_month, start_day, start_hour)\n",
    "    end_time = datetime.datetime(end_year, end_month, end_day, end_hour)\n",
    "    return tweets_df[(tweets_df.time >= start_time) & (tweets_df.time < end_time)]"
   ]
  },
  {
   "cell_type": "code",
   "execution_count": 8,
   "metadata": {
    "collapsed": false
   },
   "outputs": [],
   "source": [
    "tweets=get_tweets_between(1,15,1,2019,8,15,1,2019)"
   ]
  },
  {
   "cell_type": "code",
   "execution_count": 9,
   "metadata": {
    "collapsed": false
   },
   "outputs": [
    {
     "data": {
      "text/plain": [
       "'Never give up. Go over,Go under, go around,Grow through and Never give up  #100daysofcode #javascript #womenwhocode #vuejs #reactjs #angularjs'"
      ]
     },
     "execution_count": 9,
     "metadata": {},
     "output_type": "execute_result"
    }
   ],
   "source": [
    "tweets.body.iloc[0]"
   ]
  },
  {
   "cell_type": "code",
   "execution_count": 10,
   "metadata": {
    "collapsed": false
   },
   "outputs": [],
   "source": [
    "def get_tweets_top_tokens(tweets,topN=10):\n",
    "    tweetsVectorizer = TfidfVectorizer(use_idf=True,min_df=1,lowercase=True,stop_words='english',ngram_range=(2,2))\n",
    "    tweetsDenseMatrix= tweetsVectorizer.fit_transform(tweets.body).todense() #fit the vectorizer to synop#ses\n",
    "    #denseMatrix=tweetsMatrix.todense()\n",
    "    topTokens=[]\n",
    "    for i in range(len(tweets)):\n",
    "        tops=tweetsDenseMatrix[i].argsort(axis=1)[0,-topN:]\n",
    "        tops=tops.tolist()[0]\n",
    "        topTokensInTweet=[]\n",
    "        tokensDF=pd.DataFrame(columns=['token','score'])\n",
    "        for item in tops:\n",
    "            topTokensInTweet.append({\"token\":tweetsVectorizer.get_feature_names()[item],\"score\":round(tweetsDenseMatrix[i,item],5)})\n",
    "        topTokens.extend(topTokensInTweet)\n",
    "    topTokens.sort(key=lambda x: x['score'], reverse=True)\n",
    "    return topTokens[:topN]"
   ]
  },
  {
   "cell_type": "code",
   "execution_count": 12,
   "metadata": {
    "collapsed": false
   },
   "outputs": [
    {
     "data": {
      "text/plain": [
       "[{'score': 0.427, 'token': 'javascript womenwhocode'},\n",
       " {'score': 0.427, 'token': 'womenwhocode vuejs'},\n",
       " {'score': 0.427, 'token': 'reactjs angularjs'},\n",
       " {'score': 0.427, 'token': '100daysofcode javascript'},\n",
       " {'score': 0.427, 'token': 'grow 100daysofcode'},\n",
       " {'score': 0.35796, 'token': 'introduction laravel'},\n",
       " {'score': 0.33564, 'token': 'best coursera'},\n",
       " {'score': 0.33564, 'token': 'certifications specializations'},\n",
       " {'score': 0.32586, 'token': 'css text'},\n",
       " {'score': 0.32586, 'token': 'text shaking'}]"
      ]
     },
     "execution_count": 12,
     "metadata": {},
     "output_type": "execute_result"
    }
   ],
   "source": [
    "get_tweets_top_tokens(tweets)"
   ]
  },
  {
   "cell_type": "code",
   "execution_count": null,
   "metadata": {
    "collapsed": true
   },
   "outputs": [],
   "source": []
  }
 ],
 "metadata": {
  "kernelspec": {
   "display_name": "Python 3",
   "language": "python",
   "name": "python3"
  },
  "language_info": {
   "codemirror_mode": {
    "name": "ipython",
    "version": 3
   },
   "file_extension": ".py",
   "mimetype": "text/x-python",
   "name": "python",
   "nbconvert_exporter": "python",
   "pygments_lexer": "ipython3",
   "version": "3.6.8"
  }
 },
 "nbformat": 4,
 "nbformat_minor": 2
}
