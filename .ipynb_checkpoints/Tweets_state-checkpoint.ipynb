{
 "cells": [
  {
   "cell_type": "code",
   "execution_count": 12,
   "metadata": {},
   "outputs": [],
   "source": [
    "%reload_ext autoreload\n",
    "%autoreload 2\n",
    "%matplotlib inline"
   ]
  },
  {
   "cell_type": "code",
   "execution_count": 13,
   "metadata": {},
   "outputs": [],
   "source": [
    "import pandas as pd\n",
    "import numpy as np\n",
    "import matplotlib.pyplot as plt\n",
    "import re\n",
    "import datetime"
   ]
  },
  {
   "cell_type": "markdown",
   "metadata": {},
   "source": [
    "## looking into data"
   ]
  },
  {
   "cell_type": "code",
   "execution_count": 14,
   "metadata": {},
   "outputs": [
    {
     "data": {
      "text/html": [
       "<div>\n",
       "<style scoped>\n",
       "    .dataframe tbody tr th:only-of-type {\n",
       "        vertical-align: middle;\n",
       "    }\n",
       "\n",
       "    .dataframe tbody tr th {\n",
       "        vertical-align: top;\n",
       "    }\n",
       "\n",
       "    .dataframe thead th {\n",
       "        text-align: right;\n",
       "    }\n",
       "</style>\n",
       "<table border=\"1\" class=\"dataframe\">\n",
       "  <thead>\n",
       "    <tr style=\"text-align: right;\">\n",
       "      <th></th>\n",
       "      <th>0</th>\n",
       "      <th>1</th>\n",
       "      <th>2</th>\n",
       "      <th>3</th>\n",
       "      <th>4</th>\n",
       "    </tr>\n",
       "  </thead>\n",
       "  <tbody>\n",
       "    <tr>\n",
       "      <th>body</th>\n",
       "      <td>\"Return [data, loading, error];}\" http://socia...</td>\n",
       "      <td>Late tweet, 5th 6th (Days 53, 54). Very little...</td>\n",
       "      <td>Vue.js 2 Essentials: Build Your First Vue App☞...</td>\n",
       "      <td>When u write 500 lines of codes and exit witho...</td>\n",
       "      <td>My #first chat app hope to collaborate #javasc...</td>\n",
       "    </tr>\n",
       "    <tr>\n",
       "      <th>likes</th>\n",
       "      <td>0</td>\n",
       "      <td>0</td>\n",
       "      <td>0</td>\n",
       "      <td>2</td>\n",
       "      <td>NaN</td>\n",
       "    </tr>\n",
       "    <tr>\n",
       "      <th>link</th>\n",
       "      <td>/eibrahim/status/1093513673618964480</td>\n",
       "      <td>/L1K3R0535/status/1093513800098242565</td>\n",
       "      <td>/javascript_devv/status/1093514298486341632</td>\n",
       "      <td>/BarineSambaris/status/1092896518573568008</td>\n",
       "      <td>/GoodwishSifiso/status/1093224111919251456</td>\n",
       "    </tr>\n",
       "    <tr>\n",
       "      <th>replies</th>\n",
       "      <td>0</td>\n",
       "      <td>0</td>\n",
       "      <td>0</td>\n",
       "      <td>3</td>\n",
       "      <td>NaN</td>\n",
       "    </tr>\n",
       "    <tr>\n",
       "      <th>retweets</th>\n",
       "      <td>NaN</td>\n",
       "      <td>3</td>\n",
       "      <td>0</td>\n",
       "      <td>0</td>\n",
       "      <td>0</td>\n",
       "    </tr>\n",
       "    <tr>\n",
       "      <th>time</th>\n",
       "      <td>6:15 AM - 7 Feb 2019</td>\n",
       "      <td>6:16 AM - 7 Feb 2019</td>\n",
       "      <td>6:18 AM - 7 Feb 2019</td>\n",
       "      <td>1:23 PM - 5 Feb 2019</td>\n",
       "      <td>11:05 AM - 6 Feb 2019</td>\n",
       "    </tr>\n",
       "    <tr>\n",
       "      <th>writer</th>\n",
       "      <td>@eibrahim</td>\n",
       "      <td>@L1K3R0535</td>\n",
       "      <td>@javascript_devv</td>\n",
       "      <td>@BarineSambaris</td>\n",
       "      <td>@GoodwishSifiso</td>\n",
       "    </tr>\n",
       "  </tbody>\n",
       "</table>\n",
       "</div>"
      ],
      "text/plain": [
       "                                                          0  \\\n",
       "body      \"Return [data, loading, error];}\" http://socia...   \n",
       "likes                                                     0   \n",
       "link                   /eibrahim/status/1093513673618964480   \n",
       "replies                                                   0   \n",
       "retweets                                                NaN   \n",
       "time                                   6:15 AM - 7 Feb 2019   \n",
       "writer                                            @eibrahim   \n",
       "\n",
       "                                                          1  \\\n",
       "body      Late tweet, 5th 6th (Days 53, 54). Very little...   \n",
       "likes                                                     0   \n",
       "link                  /L1K3R0535/status/1093513800098242565   \n",
       "replies                                                   0   \n",
       "retweets                                                  3   \n",
       "time                                   6:16 AM - 7 Feb 2019   \n",
       "writer                                           @L1K3R0535   \n",
       "\n",
       "                                                          2  \\\n",
       "body      Vue.js 2 Essentials: Build Your First Vue App☞...   \n",
       "likes                                                     0   \n",
       "link            /javascript_devv/status/1093514298486341632   \n",
       "replies                                                   0   \n",
       "retweets                                                  0   \n",
       "time                                   6:18 AM - 7 Feb 2019   \n",
       "writer                                     @javascript_devv   \n",
       "\n",
       "                                                          3  \\\n",
       "body      When u write 500 lines of codes and exit witho...   \n",
       "likes                                                     2   \n",
       "link             /BarineSambaris/status/1092896518573568008   \n",
       "replies                                                   3   \n",
       "retweets                                                  0   \n",
       "time                                   1:23 PM - 5 Feb 2019   \n",
       "writer                                      @BarineSambaris   \n",
       "\n",
       "                                                          4  \n",
       "body      My #first chat app hope to collaborate #javasc...  \n",
       "likes                                                   NaN  \n",
       "link             /GoodwishSifiso/status/1093224111919251456  \n",
       "replies                                                 NaN  \n",
       "retweets                                                  0  \n",
       "time                                  11:05 AM - 6 Feb 2019  \n",
       "writer                                      @GoodwishSifiso  "
      ]
     },
     "execution_count": 14,
     "metadata": {},
     "output_type": "execute_result"
    }
   ],
   "source": [
    "tweets_df = pd.read_csv(\"dataset/javascript_top.csv\")\n",
    "tweets_df.head().T"
   ]
  },
  {
   "cell_type": "code",
   "execution_count": 15,
   "metadata": {},
   "outputs": [
    {
     "data": {
      "text/plain": [
       "body          0\n",
       "likes        17\n",
       "link          0\n",
       "replies     172\n",
       "retweets     40\n",
       "time          0\n",
       "writer        0\n",
       "dtype: int64"
      ]
     },
     "execution_count": 15,
     "metadata": {},
     "output_type": "execute_result"
    }
   ],
   "source": [
    "tweets_df.isna().sum()"
   ]
  },
  {
   "cell_type": "markdown",
   "metadata": {},
   "source": [
    "### we found that all missing values are in fact  0 so we change them to 0"
   ]
  },
  {
   "cell_type": "code",
   "execution_count": 16,
   "metadata": {},
   "outputs": [],
   "source": [
    "tweets_df.replies.fillna(0,inplace=True)\n",
    "tweets_df.retweets.fillna(0,inplace=True)\n",
    "tweets_df.likes.fillna(0,inplace=True)"
   ]
  },
  {
   "cell_type": "markdown",
   "metadata": {},
   "source": [
    "### now we will convert our time feature to 3 features day and month and year"
   ]
  },
  {
   "cell_type": "code",
   "execution_count": 17,
   "metadata": {},
   "outputs": [],
   "source": [
    "months = {'jan':1, 'feb':2, 'mar':3, 'apr':4,\n",
    "          'may':5, 'jun':6, 'jul':7, 'aug':8,\n",
    "          'sep':9, 'oct':10, 'nov':11, 'dec':12}\n",
    "\n",
    "def get_time(date_time):\n",
    "    return date_time.split('-')[0].strip()\n",
    "\n",
    "def get_day(date_time):\n",
    "    return int(date_time.split('-')[1].strip().split(' ')[0].strip())\n",
    "\n",
    "def get_month(date_time):\n",
    "    return months[date_time.split('-')[1].strip().split(' ')[1].strip().lower()]\n",
    "\n",
    "def get_year(date_time):\n",
    "    return int(date_time.split('-')[1].strip().split(' ')[2].strip())"
   ]
  },
  {
   "cell_type": "code",
   "execution_count": 18,
   "metadata": {
    "scrolled": true
   },
   "outputs": [],
   "source": [
    "def get_time_column(df, column_name):\n",
    "    date_list = []\n",
    "    column = df[column_name]\n",
    "    for item in column:\n",
    "        time = get_time(item)\n",
    "        day = get_day(item)\n",
    "        month = get_month(item)\n",
    "        year = get_year(item)\n",
    "        date_list.append(f'{time} - {day}/{month}/{year}')\n",
    "    return pd.to_datetime(date_list, format='%I:%M %p - %d/%m/%Y')\n",
    "tweets_df['time'] = get_time_column(tweets_df, 'time')"
   ]
  },
  {
   "cell_type": "code",
   "execution_count": 20,
   "metadata": {},
   "outputs": [
    {
     "name": "stdout",
     "output_type": "stream",
     "text": [
      "<class 'pandas.core.frame.DataFrame'>\n",
      "RangeIndex: 880 entries, 0 to 879\n",
      "Data columns (total 7 columns):\n",
      "body        880 non-null object\n",
      "likes       880 non-null object\n",
      "link        880 non-null object\n",
      "replies     880 non-null float64\n",
      "retweets    880 non-null float64\n",
      "time        880 non-null datetime64[ns]\n",
      "writer      880 non-null object\n",
      "dtypes: datetime64[ns](1), float64(2), object(4)\n",
      "memory usage: 48.2+ KB\n"
     ]
    }
   ],
   "source": [
    "tweets_df[tweets_df.time < ]"
   ]
  },
  {
   "cell_type": "code",
   "execution_count": 11,
   "metadata": {},
   "outputs": [],
   "source": [
    "tweets_df['period'] =tweets_df.time.dt.hour // 6\n",
    "tweets_df['day'] = tweets_df.time.dt.day\n",
    "tweets_df['month'] = tweets_df.time.dt.month\n",
    "tweets_df['week'] = tweets_df.time.dt.week % 4 + 1\n",
    "tweets_df['year'] = tweets_df.time.dt.year"
   ]
  },
  {
   "cell_type": "code",
   "execution_count": 9,
   "metadata": {},
   "outputs": [
    {
     "data": {
      "text/html": [
       "<div>\n",
       "<style scoped>\n",
       "    .dataframe tbody tr th:only-of-type {\n",
       "        vertical-align: middle;\n",
       "    }\n",
       "\n",
       "    .dataframe tbody tr th {\n",
       "        vertical-align: top;\n",
       "    }\n",
       "\n",
       "    .dataframe thead th {\n",
       "        text-align: right;\n",
       "    }\n",
       "</style>\n",
       "<table border=\"1\" class=\"dataframe\">\n",
       "  <thead>\n",
       "    <tr style=\"text-align: right;\">\n",
       "      <th></th>\n",
       "      <th>period</th>\n",
       "      <th>tweets</th>\n",
       "    </tr>\n",
       "  </thead>\n",
       "  <tbody>\n",
       "    <tr>\n",
       "      <th>0</th>\n",
       "      <td>0</td>\n",
       "      <td>263</td>\n",
       "    </tr>\n",
       "    <tr>\n",
       "      <th>1</th>\n",
       "      <td>1</td>\n",
       "      <td>262</td>\n",
       "    </tr>\n",
       "    <tr>\n",
       "      <th>2</th>\n",
       "      <td>2</td>\n",
       "      <td>158</td>\n",
       "    </tr>\n",
       "    <tr>\n",
       "      <th>3</th>\n",
       "      <td>3</td>\n",
       "      <td>197</td>\n",
       "    </tr>\n",
       "  </tbody>\n",
       "</table>\n",
       "</div>"
      ],
      "text/plain": [
       "   period  tweets\n",
       "0       0     263\n",
       "1       1     262\n",
       "2       2     158\n",
       "3       3     197"
      ]
     },
     "execution_count": 9,
     "metadata": {},
     "output_type": "execute_result"
    }
   ],
   "source": [
    "period_stats = tweets_df.groupby(by='period').count().reset_index()[['period', 'body']]\n",
    "period_stats.columns = ['period', 'tweets']\n",
    "period_stats.head()"
   ]
  },
  {
   "cell_type": "code",
   "execution_count": 10,
   "metadata": {},
   "outputs": [
    {
     "data": {
      "image/png": "[encoded data removed]",
      "text/plain": [
       "<Figure size 432x288 with 1 Axes>"
      ]
     },
     "metadata": {
      "needs_background": "light"
     },
     "output_type": "display_data"
    }
   ],
   "source": [
    "period_stats.plot('period','tweets', kind='bar');"
   ]
  },
  {
   "cell_type": "code",
   "execution_count": 11,
   "metadata": {},
   "outputs": [
    {
     "data": {
      "text/html": [
       "<div>\n",
       "<style scoped>\n",
       "    .dataframe tbody tr th:only-of-type {\n",
       "        vertical-align: middle;\n",
       "    }\n",
       "\n",
       "    .dataframe tbody tr th {\n",
       "        vertical-align: top;\n",
       "    }\n",
       "\n",
       "    .dataframe thead th {\n",
       "        text-align: right;\n",
       "    }\n",
       "</style>\n",
       "<table border=\"1\" class=\"dataframe\">\n",
       "  <thead>\n",
       "    <tr style=\"text-align: right;\">\n",
       "      <th></th>\n",
       "      <th>day</th>\n",
       "      <th>month</th>\n",
       "      <th>year</th>\n",
       "      <th>tweets</th>\n",
       "    </tr>\n",
       "  </thead>\n",
       "  <tbody>\n",
       "    <tr>\n",
       "      <th>0</th>\n",
       "      <td>1</td>\n",
       "      <td>2</td>\n",
       "      <td>2019</td>\n",
       "      <td>14</td>\n",
       "    </tr>\n",
       "    <tr>\n",
       "      <th>1</th>\n",
       "      <td>2</td>\n",
       "      <td>2</td>\n",
       "      <td>2019</td>\n",
       "      <td>13</td>\n",
       "    </tr>\n",
       "    <tr>\n",
       "      <th>2</th>\n",
       "      <td>3</td>\n",
       "      <td>2</td>\n",
       "      <td>2019</td>\n",
       "      <td>22</td>\n",
       "    </tr>\n",
       "    <tr>\n",
       "      <th>3</th>\n",
       "      <td>4</td>\n",
       "      <td>2</td>\n",
       "      <td>2019</td>\n",
       "      <td>16</td>\n",
       "    </tr>\n",
       "    <tr>\n",
       "      <th>4</th>\n",
       "      <td>5</td>\n",
       "      <td>2</td>\n",
       "      <td>2019</td>\n",
       "      <td>29</td>\n",
       "    </tr>\n",
       "  </tbody>\n",
       "</table>\n",
       "</div>"
      ],
      "text/plain": [
       "   day  month  year  tweets\n",
       "0    1      2  2019      14\n",
       "1    2      2  2019      13\n",
       "2    3      2  2019      22\n",
       "3    4      2  2019      16\n",
       "4    5      2  2019      29"
      ]
     },
     "execution_count": 11,
     "metadata": {},
     "output_type": "execute_result"
    }
   ],
   "source": [
    "day_stats = (tweets_df.groupby(by=['day','month','year'])\n",
    "                            .count()\n",
    "                            .reset_index()[['day','month','year', 'body']])\n",
    "day_stats.columns = ['day','month','year', 'tweets']\n",
    "day_stats.head()"
   ]
  },
  {
   "cell_type": "code",
   "execution_count": 12,
   "metadata": {},
   "outputs": [],
   "source": [
    "date = ([f'{day}/{month}/{year}' for day, month, year \n",
    "        in zip(day_stats.day, day_stats.month, day_stats.year)])\n",
    "day_stats['date'] = pd.to_datetime(date, format='%d/%m/%Y')"
   ]
  },
  {
   "cell_type": "code",
   "execution_count": 13,
   "metadata": {},
   "outputs": [
    {
     "data": {
      "image/png": "[encoded data removed]",
      "text/plain": [
       "<Figure size 432x288 with 1 Axes>"
      ]
     },
     "metadata": {
      "needs_background": "light"
     },
     "output_type": "display_data"
    }
   ],
   "source": [
    "day_stats.plot('date','tweets');"
   ]
  },
  {
   "cell_type": "code",
   "execution_count": 14,
   "metadata": {},
   "outputs": [
    {
     "data": {
      "text/html": [
       "<div>\n",
       "<style scoped>\n",
       "    .dataframe tbody tr th:only-of-type {\n",
       "        vertical-align: middle;\n",
       "    }\n",
       "\n",
       "    .dataframe tbody tr th {\n",
       "        vertical-align: top;\n",
       "    }\n",
       "\n",
       "    .dataframe thead th {\n",
       "        text-align: right;\n",
       "    }\n",
       "</style>\n",
       "<table border=\"1\" class=\"dataframe\">\n",
       "  <thead>\n",
       "    <tr style=\"text-align: right;\">\n",
       "      <th></th>\n",
       "      <th>week</th>\n",
       "      <th>month</th>\n",
       "      <th>year</th>\n",
       "      <th>tweets</th>\n",
       "    </tr>\n",
       "  </thead>\n",
       "  <tbody>\n",
       "    <tr>\n",
       "      <th>0</th>\n",
       "      <td>1</td>\n",
       "      <td>1</td>\n",
       "      <td>2019</td>\n",
       "      <td>203</td>\n",
       "    </tr>\n",
       "    <tr>\n",
       "      <th>1</th>\n",
       "      <td>2</td>\n",
       "      <td>1</td>\n",
       "      <td>2019</td>\n",
       "      <td>113</td>\n",
       "    </tr>\n",
       "    <tr>\n",
       "      <th>2</th>\n",
       "      <td>2</td>\n",
       "      <td>2</td>\n",
       "      <td>2019</td>\n",
       "      <td>49</td>\n",
       "    </tr>\n",
       "    <tr>\n",
       "      <th>3</th>\n",
       "      <td>2</td>\n",
       "      <td>12</td>\n",
       "      <td>2018</td>\n",
       "      <td>86</td>\n",
       "    </tr>\n",
       "    <tr>\n",
       "      <th>4</th>\n",
       "      <td>3</td>\n",
       "      <td>1</td>\n",
       "      <td>2019</td>\n",
       "      <td>152</td>\n",
       "    </tr>\n",
       "  </tbody>\n",
       "</table>\n",
       "</div>"
      ],
      "text/plain": [
       "   week  month  year  tweets\n",
       "0     1      1  2019     203\n",
       "1     2      1  2019     113\n",
       "2     2      2  2019      49\n",
       "3     2     12  2018      86\n",
       "4     3      1  2019     152"
      ]
     },
     "execution_count": 14,
     "metadata": {},
     "output_type": "execute_result"
    }
   ],
   "source": [
    "week_stats = (tweets_df.groupby(by=['week','month','year'])\n",
    "                            .count()\n",
    "                            .reset_index()[['week','month','year', 'body']])\n",
    "week_stats.columns = ['week','month','year', 'tweets']\n",
    "week_stats.head()"
   ]
  },
  {
   "cell_type": "code",
   "execution_count": 15,
   "metadata": {},
   "outputs": [],
   "source": [
    "date = ([f'{week}/{month}/{year}' for week, month, year \n",
    "        in zip(week_stats.week, week_stats.month, week_stats.year)])\n",
    "week_stats['week_number'] = date"
   ]
  },
  {
   "cell_type": "code",
   "execution_count": 16,
   "metadata": {},
   "outputs": [
    {
     "data": {
      "image/png": "[encoded data removed]",
      "text/plain": [
       "<Figure size 432x288 with 1 Axes>"
      ]
     },
     "metadata": {
      "needs_background": "light"
     },
     "output_type": "display_data"
    }
   ],
   "source": [
    "week_stats.plot('week_number','tweets',kind='bar');"
   ]
  },
  {
   "cell_type": "code",
   "execution_count": 17,
   "metadata": {},
   "outputs": [
    {
     "data": {
      "text/html": [
       "<div>\n",
       "<style scoped>\n",
       "    .dataframe tbody tr th:only-of-type {\n",
       "        vertical-align: middle;\n",
       "    }\n",
       "\n",
       "    .dataframe tbody tr th {\n",
       "        vertical-align: top;\n",
       "    }\n",
       "\n",
       "    .dataframe thead th {\n",
       "        text-align: right;\n",
       "    }\n",
       "</style>\n",
       "<table border=\"1\" class=\"dataframe\">\n",
       "  <thead>\n",
       "    <tr style=\"text-align: right;\">\n",
       "      <th></th>\n",
       "      <th>month</th>\n",
       "      <th>year</th>\n",
       "      <th>tweets</th>\n",
       "    </tr>\n",
       "  </thead>\n",
       "  <tbody>\n",
       "    <tr>\n",
       "      <th>0</th>\n",
       "      <td>1</td>\n",
       "      <td>2019</td>\n",
       "      <td>624</td>\n",
       "    </tr>\n",
       "    <tr>\n",
       "      <th>1</th>\n",
       "      <td>2</td>\n",
       "      <td>2019</td>\n",
       "      <td>155</td>\n",
       "    </tr>\n",
       "    <tr>\n",
       "      <th>2</th>\n",
       "      <td>12</td>\n",
       "      <td>2018</td>\n",
       "      <td>101</td>\n",
       "    </tr>\n",
       "  </tbody>\n",
       "</table>\n",
       "</div>"
      ],
      "text/plain": [
       "   month  year  tweets\n",
       "0      1  2019     624\n",
       "1      2  2019     155\n",
       "2     12  2018     101"
      ]
     },
     "execution_count": 17,
     "metadata": {},
     "output_type": "execute_result"
    }
   ],
   "source": [
    "month_stats = (tweets_df.groupby(by=['month','year'])\n",
    "                            .count()\n",
    "                            .reset_index()[['month','year', 'body']])\n",
    "month_stats.columns = ['month','year', 'tweets']\n",
    "month_stats.head()"
   ]
  },
  {
   "cell_type": "code",
   "execution_count": 18,
   "metadata": {
    "scrolled": true
   },
   "outputs": [],
   "source": [
    "date = ([f'{month}/{year}' for month, year \n",
    "        in zip(month_stats.month, month_stats.year)])\n",
    "month_stats['date'] = date"
   ]
  },
  {
   "cell_type": "code",
   "execution_count": 19,
   "metadata": {},
   "outputs": [
    {
     "data": {
      "image/png": "[encoded data removed]",
      "text/plain": [
       "<Figure size 432x288 with 1 Axes>"
      ]
     },
     "metadata": {
      "needs_background": "light"
     },
     "output_type": "display_data"
    }
   ],
   "source": [
    "month_stats.plot('date','tweets', kind='bar');"
   ]
  }
 ],
 "metadata": {
  "kernelspec": {
   "display_name": "Python 3",
   "language": "python",
   "name": "python3"
  },
  "language_info": {
   "codemirror_mode": {
    "name": "ipython",
    "version": 3
   },
   "file_extension": ".py",
   "mimetype": "text/x-python",
   "name": "python",
   "nbconvert_exporter": "python",
   "pygments_lexer": "ipython3",
   "version": "3.6.6"
  }
 },
 "nbformat": 4,
 "nbformat_minor": 2
}
